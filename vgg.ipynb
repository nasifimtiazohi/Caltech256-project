{
 "cells": [
  {
   "cell_type": "code",
   "execution_count": 1,
   "metadata": {},
   "outputs": [],
   "source": [
    "import os\n",
    "import numpy as np\n",
    "import pandas as pd\n",
    "import matplotlib.pyplot as plt\n",
    "import tarfile\n",
    "import cv2\n",
    "import pickle\n",
    "%matplotlib inline"
   ]
  },
  {
   "cell_type": "code",
   "execution_count": 2,
   "metadata": {},
   "outputs": [],
   "source": [
    "path = 'C:/Users/proti/256_ObjectCategories/'"
   ]
  },
  {
   "cell_type": "code",
   "execution_count": 3,
   "metadata": {},
   "outputs": [],
   "source": [
    "os.chdir(path)"
   ]
  },
  {
   "cell_type": "code",
   "execution_count": 4,
   "metadata": {},
   "outputs": [],
   "source": [
    "folders = os.listdir()"
   ]
  },
  {
   "cell_type": "code",
   "execution_count": 5,
   "metadata": {},
   "outputs": [
    {
     "name": "stdout",
     "output_type": "stream",
     "text": [
      "257\n"
     ]
    }
   ],
   "source": [
    "print(len(folders))"
   ]
  },
  {
   "cell_type": "code",
   "execution_count": 6,
   "metadata": {},
   "outputs": [],
   "source": [
    "folder_paths = []\n",
    "all_images = []\n",
    "all_classes = []"
   ]
  },
  {
   "cell_type": "code",
   "execution_count": 7,
   "metadata": {},
   "outputs": [
    {
     "data": {
      "text/plain": [
       "0"
      ]
     },
     "execution_count": 7,
     "metadata": {},
     "output_type": "execute_result"
    }
   ],
   "source": [
    "len(all_images)"
   ]
  },
  {
   "cell_type": "code",
   "execution_count": 8,
   "metadata": {},
   "outputs": [],
   "source": [
    "img_size = 128"
   ]
  },
  {
   "cell_type": "code",
   "execution_count": 9,
   "metadata": {},
   "outputs": [],
   "source": [
    "from PIL import Image\n",
    "\n",
    "def make_square(image, min_size=img_size, fill_color=(0, 0, 0, 0)):\n",
    "    size = (min_size, min_size)\n",
    "    image.thumbnail(size, Image.ANTIALIAS)\n",
    "    background = Image.new('RGB', size, (255, 255, 255, 0))\n",
    "    background.paste(\n",
    "        image, (int((size[0] - image.size[0]) / 2), int((size[1] - image.size[1]) / 2))\n",
    "    )\n",
    "\n",
    "    new_img = np.array(background)\n",
    "    new_img.flatten()\n",
    "    return new_img"
   ]
  },
  {
   "cell_type": "code",
   "execution_count": 10,
   "metadata": {},
   "outputs": [],
   "source": [
    "for folder in range(10):\n",
    "    folder_paths = path+str(folders[folder])+str('/')\n",
    "    \n",
    "    os.chdir(folder_paths)\n",
    "    image_in_folder = os.listdir()\n",
    "\n",
    "    for image in range(len(image_in_folder)):\n",
    "        img = Image.open(image_in_folder[image])\n",
    "        img = make_square(img)\n",
    "        \n",
    "        all_images.append(img.flatten()/255)\n",
    "        all_classes.append(folders[folder])"
   ]
  },
  {
   "cell_type": "code",
   "execution_count": 11,
   "metadata": {},
   "outputs": [
    {
     "data": {
      "text/plain": [
       "1245"
      ]
     },
     "execution_count": 11,
     "metadata": {},
     "output_type": "execute_result"
    }
   ],
   "source": [
    "len(all_images)"
   ]
  },
  {
   "cell_type": "code",
   "execution_count": 12,
   "metadata": {},
   "outputs": [
    {
     "data": {
      "text/plain": [
       "1245"
      ]
     },
     "execution_count": 12,
     "metadata": {},
     "output_type": "execute_result"
    }
   ],
   "source": [
    "len(all_classes)"
   ]
  },
  {
   "cell_type": "code",
   "execution_count": 13,
   "metadata": {},
   "outputs": [
    {
     "name": "stdout",
     "output_type": "stream",
     "text": [
      "010.beer-mug\n"
     ]
    }
   ],
   "source": [
    "print(all_classes[len(all_classes)-1])"
   ]
  },
  {
   "cell_type": "code",
   "execution_count": 14,
   "metadata": {},
   "outputs": [
    {
     "data": {
      "text/plain": [
       "(49152,)"
      ]
     },
     "execution_count": 14,
     "metadata": {},
     "output_type": "execute_result"
    }
   ],
   "source": [
    "all_images[0].shape"
   ]
  },
  {
   "cell_type": "code",
   "execution_count": 15,
   "metadata": {},
   "outputs": [
    {
     "data": {
      "text/plain": [
       "1245"
      ]
     },
     "execution_count": 15,
     "metadata": {},
     "output_type": "execute_result"
    }
   ],
   "source": [
    "len(all_images)"
   ]
  },
  {
   "cell_type": "code",
   "execution_count": 16,
   "metadata": {},
   "outputs": [],
   "source": [
    "# changing all images to dataframe where each row is an image and columns are the pixel values\n",
    "all_images_df = np.asarray(all_images)"
   ]
  },
  {
   "cell_type": "code",
   "execution_count": 17,
   "metadata": {},
   "outputs": [
    {
     "data": {
      "text/plain": [
       "(1245, 49152)"
      ]
     },
     "execution_count": 17,
     "metadata": {},
     "output_type": "execute_result"
    }
   ],
   "source": [
    "all_images_df.shape"
   ]
  },
  {
   "cell_type": "code",
   "execution_count": 18,
   "metadata": {},
   "outputs": [
    {
     "data": {
      "text/plain": [
       "{'001.ak47',\n",
       " '002.american-flag',\n",
       " '003.backpack',\n",
       " '004.baseball-bat',\n",
       " '005.baseball-glove',\n",
       " '006.basketball-hoop',\n",
       " '007.bat',\n",
       " '008.bathtub',\n",
       " '009.bear',\n",
       " '010.beer-mug'}"
      ]
     },
     "execution_count": 18,
     "metadata": {},
     "output_type": "execute_result"
    }
   ],
   "source": [
    "set(all_classes)"
   ]
  },
  {
   "cell_type": "code",
   "execution_count": 22,
   "metadata": {},
   "outputs": [
    {
     "data": {
      "text/html": [
       "<div>\n",
       "<style scoped>\n",
       "    .dataframe tbody tr th:only-of-type {\n",
       "        vertical-align: middle;\n",
       "    }\n",
       "\n",
       "    .dataframe tbody tr th {\n",
       "        vertical-align: top;\n",
       "    }\n",
       "\n",
       "    .dataframe thead th {\n",
       "        text-align: right;\n",
       "    }\n",
       "</style>\n",
       "<table border=\"1\" class=\"dataframe\">\n",
       "  <thead>\n",
       "    <tr style=\"text-align: right;\">\n",
       "      <th></th>\n",
       "      <th>001.ak47</th>\n",
       "      <th>002.american-flag</th>\n",
       "      <th>003.backpack</th>\n",
       "      <th>004.baseball-bat</th>\n",
       "      <th>005.baseball-glove</th>\n",
       "      <th>006.basketball-hoop</th>\n",
       "      <th>007.bat</th>\n",
       "      <th>008.bathtub</th>\n",
       "      <th>009.bear</th>\n",
       "      <th>010.beer-mug</th>\n",
       "    </tr>\n",
       "  </thead>\n",
       "  <tbody>\n",
       "    <tr>\n",
       "      <th>0</th>\n",
       "      <td>1</td>\n",
       "      <td>0</td>\n",
       "      <td>0</td>\n",
       "      <td>0</td>\n",
       "      <td>0</td>\n",
       "      <td>0</td>\n",
       "      <td>0</td>\n",
       "      <td>0</td>\n",
       "      <td>0</td>\n",
       "      <td>0</td>\n",
       "    </tr>\n",
       "    <tr>\n",
       "      <th>1</th>\n",
       "      <td>1</td>\n",
       "      <td>0</td>\n",
       "      <td>0</td>\n",
       "      <td>0</td>\n",
       "      <td>0</td>\n",
       "      <td>0</td>\n",
       "      <td>0</td>\n",
       "      <td>0</td>\n",
       "      <td>0</td>\n",
       "      <td>0</td>\n",
       "    </tr>\n",
       "    <tr>\n",
       "      <th>2</th>\n",
       "      <td>1</td>\n",
       "      <td>0</td>\n",
       "      <td>0</td>\n",
       "      <td>0</td>\n",
       "      <td>0</td>\n",
       "      <td>0</td>\n",
       "      <td>0</td>\n",
       "      <td>0</td>\n",
       "      <td>0</td>\n",
       "      <td>0</td>\n",
       "    </tr>\n",
       "    <tr>\n",
       "      <th>3</th>\n",
       "      <td>1</td>\n",
       "      <td>0</td>\n",
       "      <td>0</td>\n",
       "      <td>0</td>\n",
       "      <td>0</td>\n",
       "      <td>0</td>\n",
       "      <td>0</td>\n",
       "      <td>0</td>\n",
       "      <td>0</td>\n",
       "      <td>0</td>\n",
       "    </tr>\n",
       "    <tr>\n",
       "      <th>4</th>\n",
       "      <td>1</td>\n",
       "      <td>0</td>\n",
       "      <td>0</td>\n",
       "      <td>0</td>\n",
       "      <td>0</td>\n",
       "      <td>0</td>\n",
       "      <td>0</td>\n",
       "      <td>0</td>\n",
       "      <td>0</td>\n",
       "      <td>0</td>\n",
       "    </tr>\n",
       "  </tbody>\n",
       "</table>\n",
       "</div>"
      ],
      "text/plain": [
       "   001.ak47  002.american-flag  003.backpack  004.baseball-bat  \\\n",
       "0         1                  0             0                 0   \n",
       "1         1                  0             0                 0   \n",
       "2         1                  0             0                 0   \n",
       "3         1                  0             0                 0   \n",
       "4         1                  0             0                 0   \n",
       "\n",
       "   005.baseball-glove  006.basketball-hoop  007.bat  008.bathtub  009.bear  \\\n",
       "0                   0                    0        0            0         0   \n",
       "1                   0                    0        0            0         0   \n",
       "2                   0                    0        0            0         0   \n",
       "3                   0                    0        0            0         0   \n",
       "4                   0                    0        0            0         0   \n",
       "\n",
       "   010.beer-mug  \n",
       "0             0  \n",
       "1             0  \n",
       "2             0  \n",
       "3             0  \n",
       "4             0  "
      ]
     },
     "execution_count": 22,
     "metadata": {},
     "output_type": "execute_result"
    }
   ],
   "source": [
    "all_classes.head()"
   ]
  },
  {
   "cell_type": "code",
   "execution_count": 19,
   "metadata": {},
   "outputs": [],
   "source": [
    "all_classes = pd.get_dummies(all_classes) "
   ]
  },
  {
   "cell_type": "code",
   "execution_count": 20,
   "metadata": {},
   "outputs": [
    {
     "data": {
      "text/plain": [
       "{'001.ak47',\n",
       " '002.american-flag',\n",
       " '003.backpack',\n",
       " '004.baseball-bat',\n",
       " '005.baseball-glove',\n",
       " '006.basketball-hoop',\n",
       " '007.bat',\n",
       " '008.bathtub',\n",
       " '009.bear',\n",
       " '010.beer-mug'}"
      ]
     },
     "execution_count": 20,
     "metadata": {},
     "output_type": "execute_result"
    }
   ],
   "source": [
    "set(all_classes)"
   ]
  },
  {
   "cell_type": "code",
   "execution_count": 21,
   "metadata": {},
   "outputs": [
    {
     "data": {
      "text/html": [
       "<div>\n",
       "<style scoped>\n",
       "    .dataframe tbody tr th:only-of-type {\n",
       "        vertical-align: middle;\n",
       "    }\n",
       "\n",
       "    .dataframe tbody tr th {\n",
       "        vertical-align: top;\n",
       "    }\n",
       "\n",
       "    .dataframe thead th {\n",
       "        text-align: right;\n",
       "    }\n",
       "</style>\n",
       "<table border=\"1\" class=\"dataframe\">\n",
       "  <thead>\n",
       "    <tr style=\"text-align: right;\">\n",
       "      <th></th>\n",
       "      <th>001.ak47</th>\n",
       "      <th>002.american-flag</th>\n",
       "      <th>003.backpack</th>\n",
       "      <th>004.baseball-bat</th>\n",
       "      <th>005.baseball-glove</th>\n",
       "      <th>006.basketball-hoop</th>\n",
       "      <th>007.bat</th>\n",
       "      <th>008.bathtub</th>\n",
       "      <th>009.bear</th>\n",
       "      <th>010.beer-mug</th>\n",
       "    </tr>\n",
       "  </thead>\n",
       "  <tbody>\n",
       "    <tr>\n",
       "      <th>0</th>\n",
       "      <td>1</td>\n",
       "      <td>0</td>\n",
       "      <td>0</td>\n",
       "      <td>0</td>\n",
       "      <td>0</td>\n",
       "      <td>0</td>\n",
       "      <td>0</td>\n",
       "      <td>0</td>\n",
       "      <td>0</td>\n",
       "      <td>0</td>\n",
       "    </tr>\n",
       "    <tr>\n",
       "      <th>1</th>\n",
       "      <td>1</td>\n",
       "      <td>0</td>\n",
       "      <td>0</td>\n",
       "      <td>0</td>\n",
       "      <td>0</td>\n",
       "      <td>0</td>\n",
       "      <td>0</td>\n",
       "      <td>0</td>\n",
       "      <td>0</td>\n",
       "      <td>0</td>\n",
       "    </tr>\n",
       "    <tr>\n",
       "      <th>2</th>\n",
       "      <td>1</td>\n",
       "      <td>0</td>\n",
       "      <td>0</td>\n",
       "      <td>0</td>\n",
       "      <td>0</td>\n",
       "      <td>0</td>\n",
       "      <td>0</td>\n",
       "      <td>0</td>\n",
       "      <td>0</td>\n",
       "      <td>0</td>\n",
       "    </tr>\n",
       "    <tr>\n",
       "      <th>3</th>\n",
       "      <td>1</td>\n",
       "      <td>0</td>\n",
       "      <td>0</td>\n",
       "      <td>0</td>\n",
       "      <td>0</td>\n",
       "      <td>0</td>\n",
       "      <td>0</td>\n",
       "      <td>0</td>\n",
       "      <td>0</td>\n",
       "      <td>0</td>\n",
       "    </tr>\n",
       "    <tr>\n",
       "      <th>4</th>\n",
       "      <td>1</td>\n",
       "      <td>0</td>\n",
       "      <td>0</td>\n",
       "      <td>0</td>\n",
       "      <td>0</td>\n",
       "      <td>0</td>\n",
       "      <td>0</td>\n",
       "      <td>0</td>\n",
       "      <td>0</td>\n",
       "      <td>0</td>\n",
       "    </tr>\n",
       "  </tbody>\n",
       "</table>\n",
       "</div>"
      ],
      "text/plain": [
       "   001.ak47  002.american-flag  003.backpack  004.baseball-bat  \\\n",
       "0         1                  0             0                 0   \n",
       "1         1                  0             0                 0   \n",
       "2         1                  0             0                 0   \n",
       "3         1                  0             0                 0   \n",
       "4         1                  0             0                 0   \n",
       "\n",
       "   005.baseball-glove  006.basketball-hoop  007.bat  008.bathtub  009.bear  \\\n",
       "0                   0                    0        0            0         0   \n",
       "1                   0                    0        0            0         0   \n",
       "2                   0                    0        0            0         0   \n",
       "3                   0                    0        0            0         0   \n",
       "4                   0                    0        0            0         0   \n",
       "\n",
       "   010.beer-mug  \n",
       "0             0  \n",
       "1             0  \n",
       "2             0  \n",
       "3             0  \n",
       "4             0  "
      ]
     },
     "execution_count": 21,
     "metadata": {},
     "output_type": "execute_result"
    }
   ],
   "source": [
    "all_classes.head()"
   ]
  },
  {
   "cell_type": "code",
   "execution_count": 23,
   "metadata": {},
   "outputs": [],
   "source": [
    "all_images = np.array(all_images)"
   ]
  },
  {
   "cell_type": "code",
   "execution_count": 24,
   "metadata": {},
   "outputs": [],
   "source": [
    "from sklearn.model_selection import train_test_split\n",
    "X_train, X_test, y_train, y_test = train_test_split(all_images, all_classes, test_size=0.1)"
   ]
  },
  {
   "cell_type": "code",
   "execution_count": 25,
   "metadata": {},
   "outputs": [
    {
     "data": {
      "text/plain": [
       "125"
      ]
     },
     "execution_count": 25,
     "metadata": {},
     "output_type": "execute_result"
    }
   ],
   "source": [
    "len(X_test)"
   ]
  },
  {
   "cell_type": "code",
   "execution_count": 26,
   "metadata": {},
   "outputs": [
    {
     "data": {
      "text/plain": [
       "1120"
      ]
     },
     "execution_count": 26,
     "metadata": {},
     "output_type": "execute_result"
    }
   ],
   "source": [
    "len(X_train)"
   ]
  },
  {
   "cell_type": "code",
   "execution_count": 27,
   "metadata": {},
   "outputs": [],
   "source": [
    "X_train = X_train.reshape(-1,img_size,img_size,3)"
   ]
  },
  {
   "cell_type": "code",
   "execution_count": 28,
   "metadata": {},
   "outputs": [],
   "source": [
    "X_test = X_test.reshape(-1,img_size,img_size,3)"
   ]
  },
  {
   "cell_type": "code",
   "execution_count": 29,
   "metadata": {},
   "outputs": [
    {
     "data": {
      "text/plain": [
       "(1120, 128, 128, 3)"
      ]
     },
     "execution_count": 29,
     "metadata": {},
     "output_type": "execute_result"
    }
   ],
   "source": [
    "X_train.shape"
   ]
  },
  {
   "cell_type": "code",
   "execution_count": 30,
   "metadata": {},
   "outputs": [
    {
     "data": {
      "text/plain": [
       "(125, 128, 128, 3)"
      ]
     },
     "execution_count": 30,
     "metadata": {},
     "output_type": "execute_result"
    }
   ],
   "source": [
    "X_test.shape"
   ]
  },
  {
   "cell_type": "code",
   "execution_count": 31,
   "metadata": {},
   "outputs": [
    {
     "name": "stderr",
     "output_type": "stream",
     "text": [
      "Using TensorFlow backend.\n",
      "C:\\Users\\proti\\anaconda3\\lib\\site-packages\\tensorflow\\python\\framework\\dtypes.py:516: FutureWarning: Passing (type, 1) or '1type' as a synonym of type is deprecated; in a future version of numpy, it will be understood as (type, (1,)) / '(1,)type'.\n",
      "  _np_qint8 = np.dtype([(\"qint8\", np.int8, 1)])\n",
      "C:\\Users\\proti\\anaconda3\\lib\\site-packages\\tensorflow\\python\\framework\\dtypes.py:517: FutureWarning: Passing (type, 1) or '1type' as a synonym of type is deprecated; in a future version of numpy, it will be understood as (type, (1,)) / '(1,)type'.\n",
      "  _np_quint8 = np.dtype([(\"quint8\", np.uint8, 1)])\n",
      "C:\\Users\\proti\\anaconda3\\lib\\site-packages\\tensorflow\\python\\framework\\dtypes.py:518: FutureWarning: Passing (type, 1) or '1type' as a synonym of type is deprecated; in a future version of numpy, it will be understood as (type, (1,)) / '(1,)type'.\n",
      "  _np_qint16 = np.dtype([(\"qint16\", np.int16, 1)])\n",
      "C:\\Users\\proti\\anaconda3\\lib\\site-packages\\tensorflow\\python\\framework\\dtypes.py:519: FutureWarning: Passing (type, 1) or '1type' as a synonym of type is deprecated; in a future version of numpy, it will be understood as (type, (1,)) / '(1,)type'.\n",
      "  _np_quint16 = np.dtype([(\"quint16\", np.uint16, 1)])\n",
      "C:\\Users\\proti\\anaconda3\\lib\\site-packages\\tensorflow\\python\\framework\\dtypes.py:520: FutureWarning: Passing (type, 1) or '1type' as a synonym of type is deprecated; in a future version of numpy, it will be understood as (type, (1,)) / '(1,)type'.\n",
      "  _np_qint32 = np.dtype([(\"qint32\", np.int32, 1)])\n",
      "C:\\Users\\proti\\anaconda3\\lib\\site-packages\\tensorflow\\python\\framework\\dtypes.py:525: FutureWarning: Passing (type, 1) or '1type' as a synonym of type is deprecated; in a future version of numpy, it will be understood as (type, (1,)) / '(1,)type'.\n",
      "  np_resource = np.dtype([(\"resource\", np.ubyte, 1)])\n",
      "C:\\Users\\proti\\anaconda3\\lib\\site-packages\\tensorboard\\compat\\tensorflow_stub\\dtypes.py:541: FutureWarning: Passing (type, 1) or '1type' as a synonym of type is deprecated; in a future version of numpy, it will be understood as (type, (1,)) / '(1,)type'.\n",
      "  _np_qint8 = np.dtype([(\"qint8\", np.int8, 1)])\n",
      "C:\\Users\\proti\\anaconda3\\lib\\site-packages\\tensorboard\\compat\\tensorflow_stub\\dtypes.py:542: FutureWarning: Passing (type, 1) or '1type' as a synonym of type is deprecated; in a future version of numpy, it will be understood as (type, (1,)) / '(1,)type'.\n",
      "  _np_quint8 = np.dtype([(\"quint8\", np.uint8, 1)])\n",
      "C:\\Users\\proti\\anaconda3\\lib\\site-packages\\tensorboard\\compat\\tensorflow_stub\\dtypes.py:543: FutureWarning: Passing (type, 1) or '1type' as a synonym of type is deprecated; in a future version of numpy, it will be understood as (type, (1,)) / '(1,)type'.\n",
      "  _np_qint16 = np.dtype([(\"qint16\", np.int16, 1)])\n",
      "C:\\Users\\proti\\anaconda3\\lib\\site-packages\\tensorboard\\compat\\tensorflow_stub\\dtypes.py:544: FutureWarning: Passing (type, 1) or '1type' as a synonym of type is deprecated; in a future version of numpy, it will be understood as (type, (1,)) / '(1,)type'.\n",
      "  _np_quint16 = np.dtype([(\"quint16\", np.uint16, 1)])\n",
      "C:\\Users\\proti\\anaconda3\\lib\\site-packages\\tensorboard\\compat\\tensorflow_stub\\dtypes.py:545: FutureWarning: Passing (type, 1) or '1type' as a synonym of type is deprecated; in a future version of numpy, it will be understood as (type, (1,)) / '(1,)type'.\n",
      "  _np_qint32 = np.dtype([(\"qint32\", np.int32, 1)])\n",
      "C:\\Users\\proti\\anaconda3\\lib\\site-packages\\tensorboard\\compat\\tensorflow_stub\\dtypes.py:550: FutureWarning: Passing (type, 1) or '1type' as a synonym of type is deprecated; in a future version of numpy, it will be understood as (type, (1,)) / '(1,)type'.\n",
      "  np_resource = np.dtype([(\"resource\", np.ubyte, 1)])\n"
     ]
    }
   ],
   "source": [
    "from keras.preprocessing.image import ImageDataGenerator, array_to_img, img_to_array, load_img"
   ]
  },
  {
   "cell_type": "code",
   "execution_count": 32,
   "metadata": {},
   "outputs": [],
   "source": [
    "generator = ImageDataGenerator(\n",
    "        rotation_range=40,\n",
    "        width_shift_range=0.2,\n",
    "        height_shift_range=0.2,\n",
    "        shear_range=0.2,\n",
    "        zoom_range=0.2,\n",
    "        horizontal_flip=True,\n",
    "        fill_mode='nearest')"
   ]
  },
  {
   "cell_type": "code",
   "execution_count": 33,
   "metadata": {},
   "outputs": [
    {
     "data": {
      "text/plain": [
       "<keras.preprocessing.image.NumpyArrayIterator at 0x227825e9288>"
      ]
     },
     "execution_count": 33,
     "metadata": {},
     "output_type": "execute_result"
    }
   ],
   "source": [
    "generator.flow(X_train)"
   ]
  },
  {
   "cell_type": "code",
   "execution_count": 34,
   "metadata": {},
   "outputs": [],
   "source": [
    "from keras.models import Sequential\n",
    "from keras.layers import Dense, Activation, Dropout\n",
    "import keras.backend as K\n",
    "from keras.optimizers import Adam\n",
    "from keras.layers.normalization import BatchNormalization\n",
    "from keras.layers import Conv2D, MaxPool2D, AvgPool2D,Flatten"
   ]
  },
  {
   "cell_type": "code",
   "execution_count": 40,
   "metadata": {},
   "outputs": [
    {
     "name": "stdout",
     "output_type": "stream",
     "text": [
      "filter: 32\n",
      "filter: 64\n",
      "filter: 128\n",
      "filter: 256\n",
      "\n",
      "\n"
     ]
    }
   ],
   "source": [
    "layer = 3\n",
    "filterz = 32\n",
    "lr = .001\n",
    "epochs = 80\n",
    "batch_size = 32\n",
    "decay = lr/epochs\n",
    "adam = Adam(lr=lr,decay=decay)\n",
    "\n",
    "model = Sequential()\n",
    "model.add(Conv2D(filters = (filterz), kernel_size= (3,3), input_shape = (img_size,img_size,3), padding = 'same'))\n",
    "model.add(BatchNormalization())\n",
    "model.add(Activation('relu'))\n",
    "model.add(MaxPool2D(pool_size = (2,2)))\n",
    "print('filter: '+ str(filterz))\n",
    "\n",
    "for i in range(layer):\n",
    "    filterz1 = filterz * (2**(i+1))\n",
    "    model.add(Conv2D(filters = filterz1, kernel_size= (3,3), padding = 'same'))\n",
    "    model.add(BatchNormalization())\n",
    "    model.add(Activation('relu'))\n",
    "    model.add(MaxPool2D(pool_size = (2,2)))\n",
    "    print('filter: '+ str(filterz * (2**(i+1))))\n",
    "\n",
    "print('\\n')\n",
    "model.add(Flatten())\n",
    "\n",
    "model.add(Dense(512))\n",
    "model.add(BatchNormalization())\n",
    "model.add(Activation('relu')) \n",
    "\n",
    "model.add(Dense(10,activation='softmax'))\n",
    "model.compile(adam, \n",
    "              loss='categorical_crossentropy', \n",
    "              metrics=['accuracy'])"
   ]
  },
  {
   "cell_type": "code",
   "execution_count": 41,
   "metadata": {},
   "outputs": [
    {
     "name": "stdout",
     "output_type": "stream",
     "text": [
      "Model: \"sequential_2\"\n",
      "_________________________________________________________________\n",
      "Layer (type)                 Output Shape              Param #   \n",
      "=================================================================\n",
      "conv2d_5 (Conv2D)            (None, 128, 128, 32)      896       \n",
      "_________________________________________________________________\n",
      "batch_normalization_6 (Batch (None, 128, 128, 32)      128       \n",
      "_________________________________________________________________\n",
      "activation_6 (Activation)    (None, 128, 128, 32)      0         \n",
      "_________________________________________________________________\n",
      "max_pooling2d_5 (MaxPooling2 (None, 64, 64, 32)        0         \n",
      "_________________________________________________________________\n",
      "conv2d_6 (Conv2D)            (None, 64, 64, 64)        18496     \n",
      "_________________________________________________________________\n",
      "batch_normalization_7 (Batch (None, 64, 64, 64)        256       \n",
      "_________________________________________________________________\n",
      "activation_7 (Activation)    (None, 64, 64, 64)        0         \n",
      "_________________________________________________________________\n",
      "max_pooling2d_6 (MaxPooling2 (None, 32, 32, 64)        0         \n",
      "_________________________________________________________________\n",
      "conv2d_7 (Conv2D)            (None, 32, 32, 128)       73856     \n",
      "_________________________________________________________________\n",
      "batch_normalization_8 (Batch (None, 32, 32, 128)       512       \n",
      "_________________________________________________________________\n",
      "activation_8 (Activation)    (None, 32, 32, 128)       0         \n",
      "_________________________________________________________________\n",
      "max_pooling2d_7 (MaxPooling2 (None, 16, 16, 128)       0         \n",
      "_________________________________________________________________\n",
      "conv2d_8 (Conv2D)            (None, 16, 16, 256)       295168    \n",
      "_________________________________________________________________\n",
      "batch_normalization_9 (Batch (None, 16, 16, 256)       1024      \n",
      "_________________________________________________________________\n",
      "activation_9 (Activation)    (None, 16, 16, 256)       0         \n",
      "_________________________________________________________________\n",
      "max_pooling2d_8 (MaxPooling2 (None, 8, 8, 256)         0         \n",
      "_________________________________________________________________\n",
      "flatten_2 (Flatten)          (None, 16384)             0         \n",
      "_________________________________________________________________\n",
      "dense_3 (Dense)              (None, 512)               8389120   \n",
      "_________________________________________________________________\n",
      "batch_normalization_10 (Batc (None, 512)               2048      \n",
      "_________________________________________________________________\n",
      "activation_10 (Activation)   (None, 512)               0         \n",
      "_________________________________________________________________\n",
      "dense_4 (Dense)              (None, 10)                5130      \n",
      "=================================================================\n",
      "Total params: 8,786,634\n",
      "Trainable params: 8,784,650\n",
      "Non-trainable params: 1,984\n",
      "_________________________________________________________________\n"
     ]
    }
   ],
   "source": [
    "model.summary()"
   ]
  },
  {
   "cell_type": "code",
   "execution_count": 42,
   "metadata": {},
   "outputs": [
    {
     "name": "stdout",
     "output_type": "stream",
     "text": [
      "Epoch 1/80\n",
      "35/35 [==============================] - 72s 2s/step - loss: 2.4048 - accuracy: 0.3161 - val_loss: 2.6540 - val_accuracy: 0.1120\n",
      "Epoch 2/80\n",
      "35/35 [==============================] - 76s 2s/step - loss: 1.6995 - accuracy: 0.4286 - val_loss: 2.9603 - val_accuracy: 0.2000\n",
      "Epoch 3/80\n",
      "35/35 [==============================] - 74s 2s/step - loss: 1.6023 - accuracy: 0.4696 - val_loss: 3.0464 - val_accuracy: 0.2480\n",
      "Epoch 4/80\n",
      "35/35 [==============================] - 73s 2s/step - loss: 1.5154 - accuracy: 0.5009 - val_loss: 3.7465 - val_accuracy: 0.2160\n",
      "Epoch 5/80\n",
      "35/35 [==============================] - 75s 2s/step - loss: 1.4364 - accuracy: 0.5045 - val_loss: 4.8757 - val_accuracy: 0.2160\n",
      "Epoch 6/80\n",
      "35/35 [==============================] - 79s 2s/step - loss: 1.4310 - accuracy: 0.5143 - val_loss: 3.9949 - val_accuracy: 0.2160\n",
      "Epoch 7/80\n",
      "35/35 [==============================] - 73s 2s/step - loss: 1.3843 - accuracy: 0.5348 - val_loss: 3.0932 - val_accuracy: 0.2560\n",
      "Epoch 8/80\n",
      "35/35 [==============================] - 79s 2s/step - loss: 1.3330 - accuracy: 0.5446 - val_loss: 3.9621 - val_accuracy: 0.2160\n",
      "Epoch 9/80\n",
      "35/35 [==============================] - 76s 2s/step - loss: 1.2779 - accuracy: 0.5464 - val_loss: 3.6683 - val_accuracy: 0.2160\n",
      "Epoch 10/80\n",
      "35/35 [==============================] - 75s 2s/step - loss: 1.3055 - accuracy: 0.5437 - val_loss: 3.0843 - val_accuracy: 0.2080\n",
      "Epoch 11/80\n",
      "35/35 [==============================] - 77s 2s/step - loss: 1.2511 - accuracy: 0.5857 - val_loss: 2.3415 - val_accuracy: 0.2960\n",
      "Epoch 12/80\n",
      "35/35 [==============================] - 77s 2s/step - loss: 1.1668 - accuracy: 0.6089 - val_loss: 2.4845 - val_accuracy: 0.2720\n",
      "Epoch 13/80\n",
      "35/35 [==============================] - 77s 2s/step - loss: 1.1609 - accuracy: 0.6062 - val_loss: 1.5597 - val_accuracy: 0.5360\n",
      "Epoch 14/80\n",
      "35/35 [==============================] - 75s 2s/step - loss: 1.1200 - accuracy: 0.6187 - val_loss: 1.9840 - val_accuracy: 0.3440\n",
      "Epoch 15/80\n",
      "35/35 [==============================] - 79s 2s/step - loss: 1.1145 - accuracy: 0.6357 - val_loss: 1.4848 - val_accuracy: 0.5120\n",
      "Epoch 16/80\n",
      "35/35 [==============================] - 82s 2s/step - loss: 1.0805 - accuracy: 0.6241 - val_loss: 1.3162 - val_accuracy: 0.5600\n",
      "Epoch 17/80\n",
      "35/35 [==============================] - 82s 2s/step - loss: 1.0496 - accuracy: 0.6473 - val_loss: 1.5192 - val_accuracy: 0.5440\n",
      "Epoch 18/80\n",
      "35/35 [==============================] - 79s 2s/step - loss: 1.0097 - accuracy: 0.6429 - val_loss: 1.6268 - val_accuracy: 0.5120\n",
      "Epoch 19/80\n",
      "35/35 [==============================] - 84s 2s/step - loss: 1.0605 - accuracy: 0.6473 - val_loss: 3.4480 - val_accuracy: 0.3120\n",
      "Epoch 20/80\n",
      "35/35 [==============================] - 78s 2s/step - loss: 0.9906 - accuracy: 0.6607 - val_loss: 1.5085 - val_accuracy: 0.5120\n",
      "Epoch 21/80\n",
      "35/35 [==============================] - 94s 3s/step - loss: 0.9543 - accuracy: 0.6777 - val_loss: 1.3965 - val_accuracy: 0.5840\n",
      "Epoch 22/80\n",
      "35/35 [==============================] - 129s 4s/step - loss: 0.9570 - accuracy: 0.6661 - val_loss: 2.0401 - val_accuracy: 0.4400\n",
      "Epoch 23/80\n",
      "35/35 [==============================] - 131s 4s/step - loss: 0.8810 - accuracy: 0.7054 - val_loss: 1.3472 - val_accuracy: 0.5520\n",
      "Epoch 24/80\n",
      "35/35 [==============================] - 133s 4s/step - loss: 0.9125 - accuracy: 0.6982 - val_loss: 1.5982 - val_accuracy: 0.5040\n",
      "Epoch 25/80\n",
      "35/35 [==============================] - 130s 4s/step - loss: 0.8914 - accuracy: 0.7000 - val_loss: 1.4822 - val_accuracy: 0.5680\n",
      "Epoch 26/80\n",
      "35/35 [==============================] - 133s 4s/step - loss: 0.8344 - accuracy: 0.7170 - val_loss: 1.2527 - val_accuracy: 0.6400\n",
      "Epoch 27/80\n",
      "35/35 [==============================] - 127s 4s/step - loss: 0.7997 - accuracy: 0.7411 - val_loss: 1.5114 - val_accuracy: 0.5520\n",
      "Epoch 28/80\n",
      "35/35 [==============================] - 130s 4s/step - loss: 0.8247 - accuracy: 0.7143 - val_loss: 1.4749 - val_accuracy: 0.5920\n",
      "Epoch 29/80\n",
      "35/35 [==============================] - 130s 4s/step - loss: 0.7950 - accuracy: 0.7295 - val_loss: 2.5784 - val_accuracy: 0.4000\n",
      "Epoch 30/80\n",
      "35/35 [==============================] - 125s 4s/step - loss: 0.7483 - accuracy: 0.7259 - val_loss: 1.6038 - val_accuracy: 0.5120\n",
      "Epoch 31/80\n",
      "35/35 [==============================] - 90s 3s/step - loss: 0.7340 - accuracy: 0.7357 - val_loss: 2.7366 - val_accuracy: 0.3680\n",
      "Epoch 32/80\n",
      "35/35 [==============================] - 84s 2s/step - loss: 0.7999 - accuracy: 0.7312 - val_loss: 1.5486 - val_accuracy: 0.5440\n",
      "Epoch 33/80\n",
      "35/35 [==============================] - 100s 3s/step - loss: 0.7265 - accuracy: 0.7536 - val_loss: 2.9190 - val_accuracy: 0.2800\n",
      "Epoch 34/80\n",
      "35/35 [==============================] - 77s 2s/step - loss: 0.7242 - accuracy: 0.7473 - val_loss: 2.6114 - val_accuracy: 0.3440\n",
      "Epoch 35/80\n",
      "35/35 [==============================] - 94s 3s/step - loss: 0.7237 - accuracy: 0.7527 - val_loss: 1.5210 - val_accuracy: 0.5440\n",
      "Epoch 36/80\n",
      "35/35 [==============================] - 97s 3s/step - loss: 0.6917 - accuracy: 0.7580 - val_loss: 1.5430 - val_accuracy: 0.5840\n",
      "Epoch 37/80\n",
      "35/35 [==============================] - 97s 3s/step - loss: 0.6420 - accuracy: 0.7812 - val_loss: 1.6870 - val_accuracy: 0.5760\n",
      "Epoch 38/80\n",
      "35/35 [==============================] - 95s 3s/step - loss: 0.6686 - accuracy: 0.7688 - val_loss: 1.7674 - val_accuracy: 0.5680\n",
      "Epoch 39/80\n",
      "35/35 [==============================] - 95s 3s/step - loss: 0.6873 - accuracy: 0.7705 - val_loss: 1.4440 - val_accuracy: 0.5680\n",
      "Epoch 40/80\n",
      "35/35 [==============================] - 97s 3s/step - loss: 0.6238 - accuracy: 0.7973 - val_loss: 1.5671 - val_accuracy: 0.5680\n",
      "Epoch 41/80\n",
      "35/35 [==============================] - 94s 3s/step - loss: 0.5700 - accuracy: 0.8161 - val_loss: 1.4108 - val_accuracy: 0.6160\n",
      "Epoch 42/80\n",
      "35/35 [==============================] - 83s 2s/step - loss: 0.5793 - accuracy: 0.7911 - val_loss: 1.7800 - val_accuracy: 0.5200\n",
      "Epoch 43/80\n",
      "35/35 [==============================] - 88s 3s/step - loss: 0.5507 - accuracy: 0.8134 - val_loss: 3.1655 - val_accuracy: 0.3280\n",
      "Epoch 44/80\n",
      "35/35 [==============================] - 80s 2s/step - loss: 0.5626 - accuracy: 0.7937 - val_loss: 1.7630 - val_accuracy: 0.5840\n",
      "Epoch 45/80\n",
      "35/35 [==============================] - 80s 2s/step - loss: 0.6002 - accuracy: 0.7893 - val_loss: 1.5949 - val_accuracy: 0.5040\n",
      "Epoch 46/80\n",
      "35/35 [==============================] - 84s 2s/step - loss: 0.5756 - accuracy: 0.8018 - val_loss: 1.9652 - val_accuracy: 0.5280\n",
      "Epoch 47/80\n",
      "35/35 [==============================] - 84s 2s/step - loss: 0.5299 - accuracy: 0.8223 - val_loss: 1.9458 - val_accuracy: 0.4800\n",
      "Epoch 48/80\n",
      "35/35 [==============================] - 81s 2s/step - loss: 0.5252 - accuracy: 0.8304 - val_loss: 1.7678 - val_accuracy: 0.5200\n",
      "Epoch 49/80\n",
      "35/35 [==============================] - 79s 2s/step - loss: 0.4995 - accuracy: 0.8304 - val_loss: 1.7318 - val_accuracy: 0.5280\n",
      "Epoch 50/80\n",
      "35/35 [==============================] - 78s 2s/step - loss: 0.5262 - accuracy: 0.8232 - val_loss: 1.6909 - val_accuracy: 0.5520\n",
      "Epoch 51/80\n",
      "35/35 [==============================] - 86s 2s/step - loss: 0.4627 - accuracy: 0.8375 - val_loss: 2.2575 - val_accuracy: 0.4720\n",
      "Epoch 52/80\n",
      "35/35 [==============================] - 87s 2s/step - loss: 0.5041 - accuracy: 0.8205 - val_loss: 2.2613 - val_accuracy: 0.5120\n",
      "Epoch 53/80\n",
      "35/35 [==============================] - 84s 2s/step - loss: 0.5188 - accuracy: 0.8250 - val_loss: 2.2899 - val_accuracy: 0.5440\n",
      "Epoch 54/80\n",
      "35/35 [==============================] - 80s 2s/step - loss: 0.4757 - accuracy: 0.8491 - val_loss: 1.5159 - val_accuracy: 0.6000\n",
      "Epoch 55/80\n",
      "35/35 [==============================] - 81s 2s/step - loss: 0.4295 - accuracy: 0.8536 - val_loss: 2.9572 - val_accuracy: 0.3520\n",
      "Epoch 56/80\n",
      "35/35 [==============================] - 73s 2s/step - loss: 0.4685 - accuracy: 0.8420 - val_loss: 4.3857 - val_accuracy: 0.2800\n",
      "Epoch 57/80\n",
      "35/35 [==============================] - 78s 2s/step - loss: 0.4628 - accuracy: 0.8429 - val_loss: 1.4719 - val_accuracy: 0.6720\n",
      "Epoch 58/80\n",
      "35/35 [==============================] - 75s 2s/step - loss: 0.4263 - accuracy: 0.8509 - val_loss: 1.4030 - val_accuracy: 0.6240\n",
      "Epoch 59/80\n"
     ]
    },
    {
     "name": "stdout",
     "output_type": "stream",
     "text": [
      "35/35 [==============================] - 88s 3s/step - loss: 0.3994 - accuracy: 0.8634 - val_loss: 2.0603 - val_accuracy: 0.5120\n",
      "Epoch 60/80\n",
      "35/35 [==============================] - 79s 2s/step - loss: 0.4353 - accuracy: 0.8429 - val_loss: 1.7537 - val_accuracy: 0.5920\n",
      "Epoch 61/80\n",
      "35/35 [==============================] - 72s 2s/step - loss: 0.4029 - accuracy: 0.8679 - val_loss: 2.0885 - val_accuracy: 0.5200\n",
      "Epoch 62/80\n",
      "35/35 [==============================] - 72s 2s/step - loss: 0.4656 - accuracy: 0.8482 - val_loss: 2.1094 - val_accuracy: 0.5280\n",
      "Epoch 63/80\n",
      "35/35 [==============================] - 72s 2s/step - loss: 0.3756 - accuracy: 0.8696 - val_loss: 1.5247 - val_accuracy: 0.6240\n",
      "Epoch 64/80\n",
      "35/35 [==============================] - 80s 2s/step - loss: 0.3669 - accuracy: 0.8795 - val_loss: 2.5146 - val_accuracy: 0.4800\n",
      "Epoch 65/80\n",
      "35/35 [==============================] - 73s 2s/step - loss: 0.3481 - accuracy: 0.8830 - val_loss: 1.7550 - val_accuracy: 0.5520\n",
      "Epoch 66/80\n",
      "35/35 [==============================] - 73s 2s/step - loss: 0.3502 - accuracy: 0.8821 - val_loss: 2.0376 - val_accuracy: 0.4880\n",
      "Epoch 67/80\n",
      "35/35 [==============================] - 73s 2s/step - loss: 0.3522 - accuracy: 0.8813 - val_loss: 3.0275 - val_accuracy: 0.4000\n",
      "Epoch 68/80\n",
      "35/35 [==============================] - 73s 2s/step - loss: 0.3555 - accuracy: 0.8875 - val_loss: 2.4815 - val_accuracy: 0.4800\n",
      "Epoch 69/80\n",
      "35/35 [==============================] - 72s 2s/step - loss: 0.3366 - accuracy: 0.8902 - val_loss: 2.3977 - val_accuracy: 0.5440\n",
      "Epoch 70/80\n",
      "35/35 [==============================] - 73s 2s/step - loss: 0.3236 - accuracy: 0.8875 - val_loss: 2.3315 - val_accuracy: 0.4320\n",
      "Epoch 71/80\n",
      "35/35 [==============================] - 72s 2s/step - loss: 0.3289 - accuracy: 0.8946 - val_loss: 2.3672 - val_accuracy: 0.4800\n",
      "Epoch 72/80\n",
      "35/35 [==============================] - 72s 2s/step - loss: 0.3281 - accuracy: 0.8929 - val_loss: 1.4572 - val_accuracy: 0.6480\n",
      "Epoch 73/80\n",
      "35/35 [==============================] - 86s 2s/step - loss: 0.3228 - accuracy: 0.8938 - val_loss: 1.4611 - val_accuracy: 0.6640\n",
      "Epoch 74/80\n",
      "35/35 [==============================] - 84s 2s/step - loss: 0.3004 - accuracy: 0.8973 - val_loss: 2.1264 - val_accuracy: 0.5600\n",
      "Epoch 75/80\n",
      "35/35 [==============================] - 74s 2s/step - loss: 0.3360 - accuracy: 0.8848 - val_loss: 1.9859 - val_accuracy: 0.5760\n",
      "Epoch 76/80\n",
      "35/35 [==============================] - 75s 2s/step - loss: 0.3309 - accuracy: 0.8911 - val_loss: 2.7877 - val_accuracy: 0.4240\n",
      "Epoch 77/80\n",
      "35/35 [==============================] - 93s 3s/step - loss: 0.2791 - accuracy: 0.9116 - val_loss: 1.8790 - val_accuracy: 0.6400\n",
      "Epoch 78/80\n",
      "35/35 [==============================] - 91s 3s/step - loss: 0.2802 - accuracy: 0.9027 - val_loss: 2.2557 - val_accuracy: 0.4720\n",
      "Epoch 79/80\n",
      "35/35 [==============================] - 82s 2s/step - loss: 0.3468 - accuracy: 0.8813 - val_loss: 2.9473 - val_accuracy: 0.4000\n",
      "Epoch 80/80\n",
      "35/35 [==============================] - 87s 2s/step - loss: 0.3379 - accuracy: 0.8830 - val_loss: 2.1734 - val_accuracy: 0.5280\n"
     ]
    },
    {
     "data": {
      "text/plain": [
       "<keras.callbacks.callbacks.History at 0x227a23ab548>"
      ]
     },
     "execution_count": 42,
     "metadata": {},
     "output_type": "execute_result"
    }
   ],
   "source": [
    "model.fit_generator(generator.flow(X_train, y_train.values, batch_size=batch_size),\n",
    "                    steps_per_epoch=len(X_train) / batch_size, \n",
    "                    epochs=80,\n",
    "                    verbose=1,\n",
    "                    validation_data=(X_test, y_test.values))"
   ]
  },
  {
   "cell_type": "code",
   "execution_count": null,
   "metadata": {},
   "outputs": [],
   "source": []
  }
 ],
 "metadata": {
  "kernelspec": {
   "display_name": "Python 3",
   "language": "python",
   "name": "python3"
  },
  "language_info": {
   "codemirror_mode": {
    "name": "ipython",
    "version": 3
   },
   "file_extension": ".py",
   "mimetype": "text/x-python",
   "name": "python",
   "nbconvert_exporter": "python",
   "pygments_lexer": "ipython3",
   "version": "3.7.6"
  }
 },
 "nbformat": 4,
 "nbformat_minor": 4
}
