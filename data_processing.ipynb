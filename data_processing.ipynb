{
 "cells": [
  {
   "cell_type": "code",
   "execution_count": null,
   "metadata": {},
   "outputs": [],
   "source": [
    "import os\n",
    "#setting up plaidml as backend to use my local gpu in Macbook pro\n",
    "os.environ[\"KERAS_BACKEND\"] = \"plaidml.keras.backend\" \n"
   ]
  },
  {
   "cell_type": "code",
   "execution_count": null,
   "metadata": {},
   "outputs": [],
   "source": [
    "os.chdir('/Users/nasifimtiaz/Desktop/Caltech256-project')\n",
    "print(os.getcwd())"
   ]
  },
  {
   "cell_type": "code",
   "execution_count": null,
   "metadata": {},
   "outputs": [],
   "source": [
    "import numpy as np\n",
    "import pandas as pd\n",
    "import matplotlib.pyplot as plt\n",
    "from PIL import Image\n",
    "\n",
    "#images are in different shapes. needs to square them.\n",
    "def shrink_square(img, shrink_size, color_mode, fill_color):\n",
    "    #all the images will be shrinked to shrink_size with any leftover filled with color_fill\n",
    "    ## thumbnail resizes image while maintaining aspect ratio\n",
    "    shrinked_img=img.thumbnail((shrink_size,shrink_size),Image.ANTIALIAS)\n",
    "    \n",
    "    #if some images were originally less than shrink_size, bring to shrink size by filling the leftover\n",
    "    output=Image.new(color_mode,(shrink_size,shrink_size),fill_color)\n",
    "    output.paste(img, (int((shrink_size - img.size[0]) / 2), int((shrink_size - img.size[1]) / 2)))\n",
    "    \n",
    "    return output\n",
    "\n",
    "\n",
    "#turn images to np_array\n",
    "def image_to_tensors(img):\n",
    "    arr=np.array(img)\n",
    "    return arr\n",
    "\n",
    "        "
   ]
  },
  {
   "cell_type": "code",
   "execution_count": null,
   "metadata": {},
   "outputs": [],
   "source": [
    "hm={}\n",
    "path='./256_ObjectCategories'\n",
    "folders=os.listdir(path)\n",
    "\n",
    "for folder in folders:\n",
    "    os.chdir(path+'/'+folder)\n",
    "    image_paths=os.listdir()\n",
    "    class_images=[]\n",
    "    for i in image_paths:\n",
    "        if i[-4:]=='.jpg':\n",
    "            print(\"processing \",i)\n",
    "            img=Image.open(i)\n",
    "            shrinked_img=shrink_square(img, 128, 'RGB', 0)\n",
    "            img_arr=image_to_tensors(shrinked_img)\n",
    "            img_arr=img_arr/255 #scaling pixel values to [0,1]\n",
    "            class_images.append(img_arr)\n",
    "            img.close()\n",
    "            shrinked_img.close()\n",
    "    class_name= folder.split('.')[1]\n",
    "    hm[class_name]=class_images\n",
    "    os.chdir('../..')\n"
   ]
  },
  {
   "cell_type": "code",
   "execution_count": null,
   "metadata": {},
   "outputs": [],
   "source": [
    "print(\"total classes: \", len(hm))\n",
    "sum=0\n",
    "flawed=0\n",
    "class_freqs=[]\n",
    "for k in hm.keys():\n",
    "    sum+=len(hm[k])\n",
    "    class_freqs.append(len(hm[k]))\n",
    "    for i in hm[k]:\n",
    "        if i.shape != (128,128,3):\n",
    "            flawed+=1\n",
    "print(\"total images: \",sum)\n",
    "print(\"flawd images: \", flawed)"
   ]
  },
  {
   "cell_type": "code",
   "execution_count": null,
   "metadata": {},
   "outputs": [],
   "source": [
    "#visualize frequency per class categories\n",
    "classes=hm.keys()\n",
    "y_pos=np.arange(len(classes))\n",
    "plt.figure(figsize=(20,5))\n",
    "plt.bar(y_pos,class_freqs,align='center', alpha=1)\n",
    "plt.xticks(y_pos,classes,rotation=90)\n",
    "plt.ylabel('# of images')\n",
    "plt.title('Image number per classes. While few classes have higher images, most has around 100 images')\n",
    "plt.show()\n",
    "\n",
    "\n"
   ]
  },
  {
   "cell_type": "code",
   "execution_count": null,
   "metadata": {},
   "outputs": [],
   "source": [
    "#create a class_mapping_to_int\n",
    "class_to_int_mapping={}\n",
    "int_to_class_mapping={}\n",
    "count=0\n",
    "for k in hm.keys():\n",
    "    count+=1\n",
    "    class_to_int_mapping[k]=count\n",
    "    int_to_class_mapping[count]=k"
   ]
  },
  {
   "cell_type": "code",
   "execution_count": null,
   "metadata": {},
   "outputs": [],
   "source": [
    "#convert hm to X,y data mapping\n",
    "#where each row of X is an image, y is it's class in int\n",
    "import random\n",
    "def make_Xy(hm,subset_classes):\n",
    "    rand=random.sample(range(1,len(hm.keys())),subset_classes)\n",
    "    X=[]\n",
    "    y=[]\n",
    "    for r in rand:\n",
    "        images=hm[int_to_class_mapping[r]]\n",
    "        flatten_images=[]\n",
    "        for i in images:\n",
    "            flatten_images.append(i.flatten())\n",
    "        X.extend(flatten_images)\n",
    "        y.extend([r]*len(flatten_images))\n",
    "    X=np.matrix(X)\n",
    "    y=np.array(y)\n",
    "    \n",
    "    return X,y        "
   ]
  },
  {
   "cell_type": "code",
   "execution_count": null,
   "metadata": {},
   "outputs": [],
   "source": []
  }
 ],
 "metadata": {
  "kernelspec": {
   "display_name": "keras",
   "language": "python",
   "name": "build_central"
  },
  "language_info": {
   "codemirror_mode": {
    "name": "ipython",
    "version": 3
   },
   "file_extension": ".py",
   "mimetype": "text/x-python",
   "name": "python",
   "nbconvert_exporter": "python",
   "pygments_lexer": "ipython3",
   "version": "3.8.2"
  }
 },
 "nbformat": 4,
 "nbformat_minor": 4
}
