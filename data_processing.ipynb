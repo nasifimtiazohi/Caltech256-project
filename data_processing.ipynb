{
 "cells": [
  {
   "cell_type": "code",
   "execution_count": null,
   "metadata": {},
   "outputs": [],
   "source": [
    "import os\n",
    "#CHANGE THIS to aboslute path of Caltech repo\n",
    "os.chdir('/Users/nasifimtiaz/Desktop/Caltech256-project')\n",
    "#this is a global variable to set how many subset of classes we will work with \n",
    "#CHANGE THIS TO REQUIRED NUMBER (257) while running on GPU\n",
    "working_classes=10"
   ]
  },
  {
   "cell_type": "code",
   "execution_count": null,
   "metadata": {},
   "outputs": [],
   "source": [
    "import numpy as np\n",
    "import pandas as pd\n",
    "import matplotlib.pyplot as plt\n",
    "import pandas as pd\n",
    "from PIL import Image\n",
    "\n",
    "#images are in different shapes. needs to square them.\n",
    "def shrink_square(img, shrink_size, color_mode, fill_color):\n",
    "    #all the images will be shrinked to shrink_size with any leftover filled with color_fill\n",
    "    ## thumbnail resizes image while maintaining aspect ratio\n",
    "    shrinked_img=img.thumbnail((shrink_size,shrink_size),Image.ANTIALIAS)\n",
    "    \n",
    "    #if some images were originally less than shrink_size, bring to shrink size by filling the leftover\n",
    "    output=Image.new(color_mode,(shrink_size,shrink_size),fill_color)\n",
    "    output.paste(img, (int((shrink_size - img.size[0]) / 2), int((shrink_size - img.size[1]) / 2)))\n",
    "    \n",
    "    return output\n",
    "\n",
    "\n",
    "#turn images to np_array\n",
    "def image_to_tensors(img):\n",
    "    arr=np.array(img)\n",
    "    return arr\n",
    "\n",
    "        "
   ]
  },
  {
   "cell_type": "code",
   "execution_count": null,
   "metadata": {},
   "outputs": [],
   "source": [
    "#globally setting up the square size that all images will be resized to\n",
    "img_size=128"
   ]
  },
  {
   "cell_type": "code",
   "execution_count": null,
   "metadata": {},
   "outputs": [],
   "source": [
    "hm={}\n",
    "path='./256_ObjectCategories'\n",
    "folders=os.listdir(path)\n",
    "\n",
    "\n",
    "for folder in folders:\n",
    "    os.chdir(path+'/'+folder)\n",
    "    image_paths=os.listdir()\n",
    "    class_images=[]\n",
    "    for i in image_paths:\n",
    "        if i[-4:]=='.jpg':\n",
    "            print(\"processing \",i)\n",
    "            img=Image.open(i)\n",
    "            shrinked_img=shrink_square(img, img_size, 'RGB', 0)\n",
    "            img_arr=image_to_tensors(shrinked_img)\n",
    "            img_arr=img_arr/255 #scaling pixel values to [0,1]\n",
    "            class_images.append(img_arr)\n",
    "            img.close()\n",
    "            shrinked_img.close()\n",
    "    class_name= folder.split('.')[1]\n",
    "    hm[class_name]=class_images\n",
    "    os.chdir('../..')\n"
   ]
  },
  {
   "cell_type": "code",
   "execution_count": null,
   "metadata": {},
   "outputs": [],
   "source": [
    "print(\"total classes: \", len(hm))\n",
    "sum=0\n",
    "flawed=0\n",
    "class_freqs=[]\n",
    "for k in hm.keys():\n",
    "    sum+=len(hm[k])\n",
    "    class_freqs.append(len(hm[k]))\n",
    "    for i in hm[k]:\n",
    "        if i.shape != (img_size,img_size,3):\n",
    "            flawed+=1\n",
    "print(\"total images: \",sum)\n",
    "print(\"flawd images: \", flawed)"
   ]
  },
  {
   "cell_type": "code",
   "execution_count": null,
   "metadata": {},
   "outputs": [],
   "source": [
    "#visualize frequency per class categories\n",
    "classes=hm.keys()\n",
    "y_pos=np.arange(len(classes))\n",
    "plt.figure(figsize=(20,5))\n",
    "plt.bar(y_pos,class_freqs,align='center', alpha=1)\n",
    "plt.xticks(y_pos,classes,rotation=90)\n",
    "plt.ylabel('# of images')\n",
    "plt.title('Image number per classes. While few classes have higher images, most has around 100 images')\n",
    "plt.show()\n",
    "\n",
    "\n"
   ]
  },
  {
   "cell_type": "code",
   "execution_count": null,
   "metadata": {},
   "outputs": [],
   "source": [
    "#convert hm to X,y data mapping\n",
    "#where each row of X is an image, y is it's class in int\n",
    "import random\n",
    "def make_Xy(hm, subset_classes):\n",
    "    classes=list(hm.keys())\n",
    "    random.shuffle(classes)\n",
    "    classes=classes[0:subset_classes]\n",
    "    X=[]\n",
    "    y=[]\n",
    "    for key in classes:\n",
    "        images=hm[key]\n",
    "        X.extend(images)\n",
    "        y.extend([key]*len(images))\n",
    "    X=np.array(X)\n",
    "    y=pd.get_dummies(y)\n",
    "    \n",
    "    return X,y     "
   ]
  },
  {
   "cell_type": "code",
   "execution_count": null,
   "metadata": {},
   "outputs": [],
   "source": [
    "X,y=make_Xy(hm,subset_classes=working_classes)\n",
    "#make a test train split\n",
    "from sklearn.model_selection import train_test_split\n",
    "X_train, X_test, y_train, y_test = train_test_split(X, y,\n",
    "                                                    stratify=y, \n",
    "                                                    test_size=0.20)"
   ]
  },
  {
   "cell_type": "code",
   "execution_count": null,
   "metadata": {},
   "outputs": [],
   "source": [
    "print(y_train.shape)\n",
    "print(X_train.shape)"
   ]
  },
  {
   "cell_type": "code",
   "execution_count": null,
   "metadata": {},
   "outputs": [],
   "source": [
    "from keras.models import Sequential\n",
    "from keras.layers import Dense, Activation, Dropout\n",
    "import keras.backend as K\n",
    "from keras.optimizers import Adam\n",
    "from keras.layers.normalization import BatchNormalization\n",
    "from keras.preprocessing.image import ImageDataGenerator, array_to_img, img_to_array, load_img\n",
    "from keras.models import Sequential\n",
    "from keras.layers import Dense, Activation, Dropout\n",
    "import keras.backend as K\n",
    "from keras.optimizers import Adam\n",
    "from keras.layers.normalization import BatchNormalization\n",
    "from keras.layers import Conv2D, MaxPool2D, AvgPool2D,Flatten"
   ]
  },
  {
   "cell_type": "code",
   "execution_count": null,
   "metadata": {},
   "outputs": [],
   "source": [
    "def DenseNetwork(X_train,y_train,input_dim,output_classes,\n",
    "                 hidden_layer=2,units=[2048,2048], kernel_initializer='RandomNormal', \n",
    "                 hidden_layer_activation='relu',output_layer_activation='softmax', \n",
    "                 loss='categorical_crossentropy',metrics=['accuracy'],learning_rate=.1,\n",
    "                 dropout=.5,batch_size=64,epochs=10,validation_split=.2):\n",
    "    \n",
    "    #flatten the images first for dense network\n",
    "    X_train=X_train.reshape(X_train.shape[0],-1)\n",
    "    \n",
    "    model= Sequential()\n",
    "    \n",
    "    for i in range(0,hidden_layer):\n",
    "        model.add(Dense(units=units[0],kernel_initializer=kernel_initializer,input_dim=input_dim))\n",
    "        model.add(BatchNormalization())\n",
    "        model.add(Activation(hidden_layer_activation))\n",
    "        model.add(Dropout(dropout))\n",
    "\n",
    "\n",
    "    model.add(Dense(output_classes,kernel_initializer=kernel_initializer,activation=output_layer_activation))\n",
    "    model.compile(Adam(lr=learning_rate),loss=loss,metrics=metrics)\n",
    "\n",
    "    fit=model.fit(X_train, y_train, batch_size=batch_size, epochs=epochs, verbose=1, validation_split=validation_split)\n",
    "    \n",
    "    return model, fit\n"
   ]
  },
  {
   "cell_type": "code",
   "execution_count": null,
   "metadata": {},
   "outputs": [],
   "source": [
    "def validation_plots(history, prefix):\n",
    "    training_loss = history['loss']\n",
    "    validation_loss = history['val_loss']\n",
    "    accuracy = history['accuracy']\n",
    "    val_accuracy=history['val_accuracy']\n",
    "    epochs=range(1,len(accuracy)+1)\n",
    "    \n",
    "    plt.plot(epochs,training_loss,'bo',label='Training loss')\n",
    "    plt.plot(epochs,validation_loss,'b',label='Validation loss')\n",
    "    plt.title('Training and validation loss')\n",
    "    plt.xlabel('Epochs')\n",
    "    plt.ylabel('Loss')\n",
    "    plt.legend()\n",
    "    plt.show()\n",
    "    plt.savefig(prefix + '_1.png')\n",
    "    plt.clf()\n",
    "    \n",
    "    plt.plot(epochs,accuracy,'b',label='Training accuracy')\n",
    "    plt.plot(epochs,val_accuracy,'r',label='Validation accuracy')\n",
    "    plt.title('Training and validation accuracy')\n",
    "    plt.xlabel('Epochs')\n",
    "    plt.ylabel('Accuracy')\n",
    "    plt.legend()\n",
    "    plt.show()\n",
    "    plt.savefig(prefix + '_2.png')\n",
    "    plt.clf()"
   ]
  },
  {
   "cell_type": "code",
   "execution_count": null,
   "metadata": {},
   "outputs": [],
   "source": [
    "dense_model, dense_fit = DenseNetwork(X_train,y_train,img_size*img_size*3,working_classes,epochs=10,batch_size=32)\n",
    "validation_plots(dense_fit.history,\"ANN\")\n",
    "print(dense_model.evaluate(X_test.reshape(X_test.shape[0],-1),y_test))"
   ]
  },
  {
   "cell_type": "code",
   "execution_count": 126,
   "metadata": {},
   "outputs": [],
   "source": [
    "def CNN(X_train,y_train,input_dim,output_classes,\n",
    "        total_layers=3, filters=32, learning_rate=.01, kernel_size=(3,3),\n",
    "        epochs=80, batch_size=32,validation_split=.2):\n",
    "    decay=batch_size/epochs \n",
    "    optimizer = Adam(lr=learning_rate,decay=decay)\n",
    "    model = Sequential()\n",
    "    model.add(Conv2D(filters = (filters), kernel_size= kernel_size, input_shape = input_dim, padding = 'same'))\n",
    "    model.add(BatchNormalization())\n",
    "    model.add(Activation('relu'))\n",
    "    model.add(MaxPool2D(pool_size = (2,2)))\n",
    "\n",
    "    for i in range(total_layers):\n",
    "        fltr = filters * (2**(i+1))\n",
    "        model.add(Conv2D(filters = fltr, kernel_size= kernel_size, padding = 'same'))\n",
    "        model.add(BatchNormalization())\n",
    "        model.add(Activation('relu'))\n",
    "        model.add(MaxPool2D(pool_size = (2,2)))\n",
    "     \n",
    "    model.add(Flatten())\n",
    "\n",
    "    model.add(Dense(512))\n",
    "    model.add(BatchNormalization())\n",
    "    model.add(Activation('relu')) \n",
    "\n",
    "    model.add(Dense(output_classes,activation='softmax'))\n",
    "    model.compile(optimizer, \n",
    "                  loss='categorical_crossentropy', \n",
    "                  metrics=['accuracy'])\n",
    "    \n",
    "    fit = model.fit_generator(ImageDataGenerator().flow(X_train, y_train.values, batch_size=batch_size), epochs=epochs, verbose=1)\n",
    "    \n",
    "    return model,fit"
   ]
  },
  {
   "cell_type": "code",
   "execution_count": 127,
   "metadata": {},
   "outputs": [
    {
     "name": "stdout",
     "output_type": "stream",
     "text": [
      "Epoch 1/10\n",
      "29/29 [==============================] - 29s 988ms/step - loss: 2.4349 - accuracy: 0.3784\n",
      "Epoch 2/10\n",
      "29/29 [==============================] - 27s 930ms/step - loss: 1.5055 - accuracy: 0.5490\n",
      "Epoch 3/10\n",
      "29/29 [==============================] - 28s 951ms/step - loss: 1.3242 - accuracy: 0.5875\n",
      "Epoch 4/10\n",
      "29/29 [==============================] - 28s 955ms/step - loss: 1.2160 - accuracy: 0.6183\n",
      "Epoch 5/10\n",
      "29/29 [==============================] - 28s 953ms/step - loss: 1.1282 - accuracy: 0.6392\n",
      "Epoch 6/10\n",
      "29/29 [==============================] - 26s 902ms/step - loss: 1.1033 - accuracy: 0.6502\n",
      "Epoch 7/10\n",
      "29/29 [==============================] - 26s 882ms/step - loss: 1.0589 - accuracy: 0.6722\n",
      "Epoch 8/10\n",
      "29/29 [==============================] - 29s 998ms/step - loss: 1.0362 - accuracy: 0.6711\n",
      "Epoch 9/10\n",
      "29/29 [==============================] - 27s 932ms/step - loss: 0.9563 - accuracy: 0.6898\n",
      "Epoch 10/10\n",
      "29/29 [==============================] - 29s 985ms/step - loss: 0.9472 - accuracy: 0.7085\n"
     ]
    }
   ],
   "source": [
    "cnn_model, cnn_fit = CNN(X_train,y_train,(img_size,img_size,3),working_classes,epochs=10,batch_size=32)"
   ]
  },
  {
   "cell_type": "code",
   "execution_count": 130,
   "metadata": {},
   "outputs": [
    {
     "data": {
      "image/png": "[encoded data removed]",
      "text/plain": [
       "<Figure size 432x288 with 1 Axes>"
      ]
     },
     "metadata": {
      "needs_background": "light"
     },
     "output_type": "display_data"
    },
    {
     "ename": "NameError",
     "evalue": "name 'prefix' is not defined",
     "output_type": "error",
     "traceback": [
      "\u001b[0;31m---------------------------------------------------------------------------\u001b[0m",
      "\u001b[0;31mNameError\u001b[0m                                 Traceback (most recent call last)",
      "\u001b[0;32m<ipython-input-130-0f38b2623e34>\u001b[0m in \u001b[0;36m<module>\u001b[0;34m\u001b[0m\n\u001b[1;32m     10\u001b[0m \u001b[0mplt\u001b[0m\u001b[0;34m.\u001b[0m\u001b[0mlegend\u001b[0m\u001b[0;34m(\u001b[0m\u001b[0;34m)\u001b[0m\u001b[0;34m\u001b[0m\u001b[0;34m\u001b[0m\u001b[0m\n\u001b[1;32m     11\u001b[0m \u001b[0mplt\u001b[0m\u001b[0;34m.\u001b[0m\u001b[0mshow\u001b[0m\u001b[0;34m(\u001b[0m\u001b[0;34m)\u001b[0m\u001b[0;34m\u001b[0m\u001b[0;34m\u001b[0m\u001b[0m\n\u001b[0;32m---> 12\u001b[0;31m \u001b[0mplt\u001b[0m\u001b[0;34m.\u001b[0m\u001b[0msavefig\u001b[0m\u001b[0;34m(\u001b[0m\u001b[0mprefix\u001b[0m \u001b[0;34m+\u001b[0m \u001b[0;34m'_1.png'\u001b[0m\u001b[0;34m)\u001b[0m\u001b[0;34m\u001b[0m\u001b[0;34m\u001b[0m\u001b[0m\n\u001b[0m\u001b[1;32m     13\u001b[0m \u001b[0mplt\u001b[0m\u001b[0;34m.\u001b[0m\u001b[0mclf\u001b[0m\u001b[0;34m(\u001b[0m\u001b[0;34m)\u001b[0m\u001b[0;34m\u001b[0m\u001b[0;34m\u001b[0m\u001b[0m\n",
      "\u001b[0;31mNameError\u001b[0m: name 'prefix' is not defined"
     ]
    }
   ],
   "source": [
    "history=cnn_fit.history\n",
    "loss = history['loss']\n",
    "accuracy = history['accuracy']\n",
    "epochs=range(1,len(accuracy)+1)\n",
    "\n",
    "plt.plot(epochs,accuracy,'b',label='Training loss')\n",
    "plt.title('Training and validation loss')\n",
    "plt.xlabel('Epochs')\n",
    "plt.ylabel('Loss')\n",
    "plt.legend()\n",
    "plt.show()\n",
    "plt.savefig(prefix + '_1.png')\n",
    "plt.clf()"
   ]
  },
  {
   "cell_type": "code",
   "execution_count": null,
   "metadata": {},
   "outputs": [],
   "source": []
  }
 ],
 "metadata": {
  "kernelspec": {
   "display_name": "keras",
   "language": "python",
   "name": "build_central"
  },
  "language_info": {
   "codemirror_mode": {
    "name": "ipython",
    "version": 3
   },
   "file_extension": ".py",
   "mimetype": "text/x-python",
   "name": "python",
   "nbconvert_exporter": "python",
   "pygments_lexer": "ipython3",
   "version": "3.6.10"
  }
 },
 "nbformat": 4,
 "nbformat_minor": 4
}
